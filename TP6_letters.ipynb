{
  "cells": [
    {
      "cell_type": "code",
      "execution_count": null,
      "metadata": {
        "id": "o6BZ9rOk7dhf"
      },
      "outputs": [],
      "source": [
        "import pandas as pd\n",
        "data_train = pd.read_csv('/home/sedtha/Documents/ITC/AI/KH_char/kh_char_train.csv', header=None, na_filter=False)\n",
        "data_test = pd.read_csv('/home/sedtha/Documents/ITC/AI/KH_char/kh_char_test.csv', header=None, na_filter=False)"
      ]
    },
    {
      "cell_type": "code",
      "execution_count": null,
      "metadata": {
        "id": "CctAvKxc7dhj",
        "outputId": "ab418c3d-26e1-4232-9a88-c11d152e9dd3"
      },
      "outputs": [
        {
          "data": {
            "text/html": [
              "<div>\n",
              "<style scoped>\n",
              "    .dataframe tbody tr th:only-of-type {\n",
              "        vertical-align: middle;\n",
              "    }\n",
              "\n",
              "    .dataframe tbody tr th {\n",
              "        vertical-align: top;\n",
              "    }\n",
              "\n",
              "    .dataframe thead th {\n",
              "        text-align: right;\n",
              "    }\n",
              "</style>\n",
              "<table border=\"1\" class=\"dataframe\">\n",
              "  <thead>\n",
              "    <tr style=\"text-align: right;\">\n",
              "      <th></th>\n",
              "      <th>0</th>\n",
              "      <th>1</th>\n",
              "      <th>2</th>\n",
              "      <th>3</th>\n",
              "      <th>4</th>\n",
              "      <th>5</th>\n",
              "      <th>6</th>\n",
              "      <th>7</th>\n",
              "      <th>8</th>\n",
              "      <th>9</th>\n",
              "      <th>...</th>\n",
              "      <th>2295</th>\n",
              "      <th>2296</th>\n",
              "      <th>2297</th>\n",
              "      <th>2298</th>\n",
              "      <th>2299</th>\n",
              "      <th>2300</th>\n",
              "      <th>2301</th>\n",
              "      <th>2302</th>\n",
              "      <th>2303</th>\n",
              "      <th>2304</th>\n",
              "    </tr>\n",
              "  </thead>\n",
              "  <tbody>\n",
              "    <tr>\n",
              "      <th>0</th>\n",
              "      <td>CHHO</td>\n",
              "      <td>218</td>\n",
              "      <td>206</td>\n",
              "      <td>194</td>\n",
              "      <td>194</td>\n",
              "      <td>214</td>\n",
              "      <td>214</td>\n",
              "      <td>210</td>\n",
              "      <td>218</td>\n",
              "      <td>198</td>\n",
              "      <td>...</td>\n",
              "      <td>194</td>\n",
              "      <td>48</td>\n",
              "      <td>0</td>\n",
              "      <td>202</td>\n",
              "      <td>198</td>\n",
              "      <td>198</td>\n",
              "      <td>198</td>\n",
              "      <td>202</td>\n",
              "      <td>198</td>\n",
              "      <td>202</td>\n",
              "    </tr>\n",
              "    <tr>\n",
              "      <th>1</th>\n",
              "      <td>TA</td>\n",
              "      <td>241</td>\n",
              "      <td>241</td>\n",
              "      <td>255</td>\n",
              "      <td>255</td>\n",
              "      <td>255</td>\n",
              "      <td>255</td>\n",
              "      <td>255</td>\n",
              "      <td>255</td>\n",
              "      <td>255</td>\n",
              "      <td>...</td>\n",
              "      <td>0</td>\n",
              "      <td>13</td>\n",
              "      <td>45</td>\n",
              "      <td>81</td>\n",
              "      <td>122</td>\n",
              "      <td>136</td>\n",
              "      <td>145</td>\n",
              "      <td>159</td>\n",
              "      <td>163</td>\n",
              "      <td>163</td>\n",
              "    </tr>\n",
              "    <tr>\n",
              "      <th>2</th>\n",
              "      <td>NGO</td>\n",
              "      <td>183</td>\n",
              "      <td>163</td>\n",
              "      <td>122</td>\n",
              "      <td>142</td>\n",
              "      <td>142</td>\n",
              "      <td>163</td>\n",
              "      <td>163</td>\n",
              "      <td>163</td>\n",
              "      <td>193</td>\n",
              "      <td>...</td>\n",
              "      <td>142</td>\n",
              "      <td>173</td>\n",
              "      <td>183</td>\n",
              "      <td>183</td>\n",
              "      <td>153</td>\n",
              "      <td>142</td>\n",
              "      <td>142</td>\n",
              "      <td>163</td>\n",
              "      <td>153</td>\n",
              "      <td>153</td>\n",
              "    </tr>\n",
              "    <tr>\n",
              "      <th>3</th>\n",
              "      <td>KO</td>\n",
              "      <td>200</td>\n",
              "      <td>204</td>\n",
              "      <td>212</td>\n",
              "      <td>216</td>\n",
              "      <td>212</td>\n",
              "      <td>212</td>\n",
              "      <td>204</td>\n",
              "      <td>204</td>\n",
              "      <td>208</td>\n",
              "      <td>...</td>\n",
              "      <td>135</td>\n",
              "      <td>142</td>\n",
              "      <td>135</td>\n",
              "      <td>142</td>\n",
              "      <td>146</td>\n",
              "      <td>142</td>\n",
              "      <td>131</td>\n",
              "      <td>123</td>\n",
              "      <td>146</td>\n",
              "      <td>154</td>\n",
              "    </tr>\n",
              "    <tr>\n",
              "      <th>4</th>\n",
              "      <td>NGO</td>\n",
              "      <td>178</td>\n",
              "      <td>178</td>\n",
              "      <td>178</td>\n",
              "      <td>178</td>\n",
              "      <td>178</td>\n",
              "      <td>178</td>\n",
              "      <td>165</td>\n",
              "      <td>178</td>\n",
              "      <td>191</td>\n",
              "      <td>...</td>\n",
              "      <td>216</td>\n",
              "      <td>216</td>\n",
              "      <td>216</td>\n",
              "      <td>216</td>\n",
              "      <td>204</td>\n",
              "      <td>216</td>\n",
              "      <td>216</td>\n",
              "      <td>216</td>\n",
              "      <td>216</td>\n",
              "      <td>216</td>\n",
              "    </tr>\n",
              "    <tr>\n",
              "      <th>...</th>\n",
              "      <td>...</td>\n",
              "      <td>...</td>\n",
              "      <td>...</td>\n",
              "      <td>...</td>\n",
              "      <td>...</td>\n",
              "      <td>...</td>\n",
              "      <td>...</td>\n",
              "      <td>...</td>\n",
              "      <td>...</td>\n",
              "      <td>...</td>\n",
              "      <td>...</td>\n",
              "      <td>...</td>\n",
              "      <td>...</td>\n",
              "      <td>...</td>\n",
              "      <td>...</td>\n",
              "      <td>...</td>\n",
              "      <td>...</td>\n",
              "      <td>...</td>\n",
              "      <td>...</td>\n",
              "      <td>...</td>\n",
              "      <td>...</td>\n",
              "    </tr>\n",
              "    <tr>\n",
              "      <th>17356</th>\n",
              "      <td>CHA</td>\n",
              "      <td>237</td>\n",
              "      <td>241</td>\n",
              "      <td>241</td>\n",
              "      <td>241</td>\n",
              "      <td>241</td>\n",
              "      <td>237</td>\n",
              "      <td>237</td>\n",
              "      <td>237</td>\n",
              "      <td>233</td>\n",
              "      <td>...</td>\n",
              "      <td>224</td>\n",
              "      <td>224</td>\n",
              "      <td>224</td>\n",
              "      <td>228</td>\n",
              "      <td>228</td>\n",
              "      <td>233</td>\n",
              "      <td>228</td>\n",
              "      <td>224</td>\n",
              "      <td>224</td>\n",
              "      <td>224</td>\n",
              "    </tr>\n",
              "    <tr>\n",
              "      <th>17357</th>\n",
              "      <td>NGO</td>\n",
              "      <td>139</td>\n",
              "      <td>163</td>\n",
              "      <td>168</td>\n",
              "      <td>197</td>\n",
              "      <td>192</td>\n",
              "      <td>216</td>\n",
              "      <td>226</td>\n",
              "      <td>211</td>\n",
              "      <td>206</td>\n",
              "      <td>...</td>\n",
              "      <td>197</td>\n",
              "      <td>202</td>\n",
              "      <td>197</td>\n",
              "      <td>178</td>\n",
              "      <td>168</td>\n",
              "      <td>192</td>\n",
              "      <td>206</td>\n",
              "      <td>221</td>\n",
              "      <td>206</td>\n",
              "      <td>192</td>\n",
              "    </tr>\n",
              "    <tr>\n",
              "      <th>17358</th>\n",
              "      <td>NGO</td>\n",
              "      <td>255</td>\n",
              "      <td>255</td>\n",
              "      <td>255</td>\n",
              "      <td>245</td>\n",
              "      <td>230</td>\n",
              "      <td>225</td>\n",
              "      <td>235</td>\n",
              "      <td>230</td>\n",
              "      <td>230</td>\n",
              "      <td>...</td>\n",
              "      <td>196</td>\n",
              "      <td>201</td>\n",
              "      <td>201</td>\n",
              "      <td>196</td>\n",
              "      <td>210</td>\n",
              "      <td>215</td>\n",
              "      <td>220</td>\n",
              "      <td>220</td>\n",
              "      <td>215</td>\n",
              "      <td>220</td>\n",
              "    </tr>\n",
              "    <tr>\n",
              "      <th>17359</th>\n",
              "      <td>TA</td>\n",
              "      <td>199</td>\n",
              "      <td>195</td>\n",
              "      <td>203</td>\n",
              "      <td>203</td>\n",
              "      <td>199</td>\n",
              "      <td>199</td>\n",
              "      <td>199</td>\n",
              "      <td>203</td>\n",
              "      <td>207</td>\n",
              "      <td>...</td>\n",
              "      <td>171</td>\n",
              "      <td>155</td>\n",
              "      <td>155</td>\n",
              "      <td>163</td>\n",
              "      <td>179</td>\n",
              "      <td>183</td>\n",
              "      <td>179</td>\n",
              "      <td>195</td>\n",
              "      <td>199</td>\n",
              "      <td>207</td>\n",
              "    </tr>\n",
              "    <tr>\n",
              "      <th>17360</th>\n",
              "      <td>TA</td>\n",
              "      <td>220</td>\n",
              "      <td>220</td>\n",
              "      <td>230</td>\n",
              "      <td>245</td>\n",
              "      <td>240</td>\n",
              "      <td>230</td>\n",
              "      <td>220</td>\n",
              "      <td>220</td>\n",
              "      <td>230</td>\n",
              "      <td>...</td>\n",
              "      <td>201</td>\n",
              "      <td>201</td>\n",
              "      <td>201</td>\n",
              "      <td>196</td>\n",
              "      <td>191</td>\n",
              "      <td>201</td>\n",
              "      <td>201</td>\n",
              "      <td>205</td>\n",
              "      <td>201</td>\n",
              "      <td>191</td>\n",
              "    </tr>\n",
              "  </tbody>\n",
              "</table>\n",
              "<p>17361 rows × 2305 columns</p>\n",
              "</div>"
            ],
            "text/plain": [
              "       0     1     2     3     4     5     6     7     8     9     ...  2295  \\\n",
              "0      CHHO   218   206   194   194   214   214   210   218   198  ...   194   \n",
              "1        TA   241   241   255   255   255   255   255   255   255  ...     0   \n",
              "2       NGO   183   163   122   142   142   163   163   163   193  ...   142   \n",
              "3        KO   200   204   212   216   212   212   204   204   208  ...   135   \n",
              "4       NGO   178   178   178   178   178   178   165   178   191  ...   216   \n",
              "...     ...   ...   ...   ...   ...   ...   ...   ...   ...   ...  ...   ...   \n",
              "17356   CHA   237   241   241   241   241   237   237   237   233  ...   224   \n",
              "17357   NGO   139   163   168   197   192   216   226   211   206  ...   197   \n",
              "17358   NGO   255   255   255   245   230   225   235   230   230  ...   196   \n",
              "17359    TA   199   195   203   203   199   199   199   203   207  ...   171   \n",
              "17360    TA   220   220   230   245   240   230   220   220   230  ...   201   \n",
              "\n",
              "       2296  2297  2298  2299  2300  2301  2302  2303  2304  \n",
              "0        48     0   202   198   198   198   202   198   202  \n",
              "1        13    45    81   122   136   145   159   163   163  \n",
              "2       173   183   183   153   142   142   163   153   153  \n",
              "3       142   135   142   146   142   131   123   146   154  \n",
              "4       216   216   216   204   216   216   216   216   216  \n",
              "...     ...   ...   ...   ...   ...   ...   ...   ...   ...  \n",
              "17356   224   224   228   228   233   228   224   224   224  \n",
              "17357   202   197   178   168   192   206   221   206   192  \n",
              "17358   201   201   196   210   215   220   220   215   220  \n",
              "17359   155   155   163   179   183   179   195   199   207  \n",
              "17360   201   201   196   191   201   201   205   201   191  \n",
              "\n",
              "[17361 rows x 2305 columns]"
            ]
          },
          "execution_count": 36,
          "metadata": {},
          "output_type": "execute_result"
        }
      ],
      "source": [
        "data_train"
      ]
    },
    {
      "cell_type": "code",
      "execution_count": null,
      "metadata": {
        "id": "HKBZ1UqQ7dhw",
        "outputId": "ed357e15-8764-4e9d-bd2c-b0a4e71c94bd"
      },
      "outputs": [
        {
          "data": {
            "text/plain": [
              "0\n",
              "TA      4508\n",
              "NGO     4296\n",
              "CHA     2934\n",
              "DA      1430\n",
              "KO      1241\n",
              "NA      1207\n",
              "KHA     1031\n",
              "CHHA     386\n",
              "CHHO     172\n",
              "KHO      156\n",
              "Name: count, dtype: int64"
            ]
          },
          "execution_count": 37,
          "metadata": {},
          "output_type": "execute_result"
        }
      ],
      "source": [
        "data_train.value_counts(0)"
      ]
    },
    {
      "cell_type": "code",
      "execution_count": null,
      "metadata": {
        "id": "7eAhA8c-7dhw",
        "outputId": "4fe3d747-0099-450b-a3ad-75a4f0e2b02c"
      },
      "outputs": [
        {
          "data": {
            "text/plain": [
              "(17361, 2305)"
            ]
          },
          "execution_count": 38,
          "metadata": {},
          "output_type": "execute_result"
        }
      ],
      "source": [
        "data_train.shape"
      ]
    },
    {
      "cell_type": "code",
      "execution_count": null,
      "metadata": {
        "id": "qADl5VeY7dhx"
      },
      "outputs": [],
      "source": [
        "import numpy as np"
      ]
    },
    {
      "cell_type": "code",
      "execution_count": null,
      "metadata": {
        "id": "Iyri44Av7dhy"
      },
      "outputs": [],
      "source": [
        "x_train = data_train.iloc[:, 1:].to_numpy().astype(float)\n",
        "y_train = data_train.iloc[:, 0].to_list()\n",
        "x_test = data_test.iloc[:, 1:].to_numpy().astype(float)\n",
        "y_test = data_test.iloc[:, 0].to_list()\n"
      ]
    },
    {
      "cell_type": "code",
      "execution_count": null,
      "metadata": {
        "id": "EkyFVdVZ7dhz"
      },
      "outputs": [],
      "source": [
        "from sklearn.preprocessing import LabelEncoder\n",
        "\n",
        "encoder = LabelEncoder()\n",
        "y_encode_train = encoder.fit_transform(y_train)\n",
        "y_encode_test = encoder.fit_transform(y_test)"
      ]
    },
    {
      "cell_type": "code",
      "execution_count": null,
      "metadata": {
        "id": "3YYl7TNN7dh0",
        "outputId": "9dc337ab-82be-4171-d444-8721602babb1"
      },
      "outputs": [
        {
          "data": {
            "text/plain": [
              "'TA'"
            ]
          },
          "execution_count": 42,
          "metadata": {},
          "output_type": "execute_result"
        },
        {
          "data": {
            "image/png": "[encoded data removed]",
            "text/plain": [
              "<Figure size 640x480 with 1 Axes>"
            ]
          },
          "metadata": {},
          "output_type": "display_data"
        }
      ],
      "source": [
        "import matplotlib.pyplot as plt\n",
        "plt.imshow(x_train[1].reshape(48,48))\n",
        "y_train[1]"
      ]
    },
    {
      "cell_type": "code",
      "execution_count": null,
      "metadata": {
        "id": "dKoJ4lzr7dh1"
      },
      "outputs": [],
      "source": [
        "from torch.utils.data import Dataset, DataLoader\n",
        "import torch\n",
        "\n",
        "class Kh(Dataset):\n",
        "    def __init__(self,x,y):\n",
        "        self.x = torch.tensor(x/255.0, dtype = torch.float32)\n",
        "        self.y = torch.tensor(y, dtype=torch.long)\n",
        "\n",
        "    def __len__(self):\n",
        "        return len(self.x)\n",
        "\n",
        "    def __getitem__(self,idx):\n",
        "        return self.x[idx],self.y[idx]\n",
        "\n"
      ]
    },
    {
      "cell_type": "code",
      "execution_count": null,
      "metadata": {
        "id": "dnLHPzoR7dh2"
      },
      "outputs": [],
      "source": [
        "data_train = Kh(x_train, y_encode_train)\n",
        "train_loader = DataLoader(data_train, batch_size=128, shuffle=True)"
      ]
    },
    {
      "cell_type": "code",
      "execution_count": null,
      "metadata": {
        "id": "erQmfZpu7dh2"
      },
      "outputs": [],
      "source": [
        "import  torch\n",
        "import torch.nn as nn\n",
        "import torch.optim as optim\n",
        "\n",
        "class MyModel(nn.Module):\n",
        "  def __init__(self):\n",
        "    super().__init__()\n",
        "    self.fc1 = nn.Linear(2304, 392)\n",
        "    self.fc2 = nn.Linear(392, 196)\n",
        "    self.fc3 = nn.Linear(196, 98)\n",
        "    self.fc4 = nn.Linear(98, 10)\n",
        "    self.relu = nn.ReLU()\n",
        "\n",
        "  def forward(self, x):\n",
        "      x = self.fc1(x)\n",
        "      x = self.relu(x)\n",
        "\n",
        "      x = self.fc2(x)\n",
        "      x = self.relu(x)\n",
        "\n",
        "      x = self.fc3(x)\n",
        "      x = self.relu(x)\n",
        "\n",
        "      x = self.fc4(x)\n",
        "      return x\n",
        "\n"
      ]
    },
    {
      "cell_type": "code",
      "execution_count": null,
      "metadata": {
        "id": "yCinJRP57dh3",
        "outputId": "4a597eda-f26f-4133-d5b4-783ff65e54de"
      },
      "outputs": [
        {
          "name": "stdout",
          "output_type": "stream",
          "text": [
            "torch.Size([20, 10])\n"
          ]
        }
      ],
      "source": [
        "x = torch.rand(20,2304)\n",
        "zfnet = MyModel()\n",
        "output = zfnet(x)\n",
        "print(output.shape)  # Expected output: torch.Size([20, 10])"
      ]
    },
    {
      "cell_type": "code",
      "execution_count": null,
      "metadata": {
        "id": "-tuDguX87dh3",
        "outputId": "f061cda4-9997-45be-b99a-a0a9ef4d943f"
      },
      "outputs": [
        {
          "name": "stdout",
          "output_type": "stream",
          "text": [
            "Epoch: 00, i: 00, Loss: 2.31762505\n",
            "Epoch: 00, i: 20, Loss: 1.76641023\n",
            "Epoch: 00, i: 40, Loss: 1.36511087\n",
            "Epoch: 00, i: 60, Loss: 1.15348315\n",
            "Epoch: 00, i: 80, Loss: 1.10933101\n",
            "Epoch: 00, i: 100, Loss: 0.95799524\n",
            "Epoch: 00, i: 120, Loss: 0.86143285\n",
            "Epoch: 01, i: 00, Loss: 0.85028023\n",
            "Epoch: 01, i: 20, Loss: 0.84806460\n",
            "Epoch: 01, i: 40, Loss: 0.76626581\n",
            "Epoch: 01, i: 60, Loss: 0.63527536\n",
            "Epoch: 01, i: 80, Loss: 0.59155589\n",
            "Epoch: 01, i: 100, Loss: 0.66393250\n",
            "Epoch: 01, i: 120, Loss: 0.52264512\n",
            "Epoch: 02, i: 00, Loss: 0.69230866\n",
            "Epoch: 02, i: 20, Loss: 0.62818265\n",
            "Epoch: 02, i: 40, Loss: 0.67404282\n",
            "Epoch: 02, i: 60, Loss: 0.67412072\n",
            "Epoch: 02, i: 80, Loss: 0.50321555\n",
            "Epoch: 02, i: 100, Loss: 0.57967407\n",
            "Epoch: 02, i: 120, Loss: 0.57933253\n",
            "Epoch: 03, i: 00, Loss: 0.61435980\n",
            "Epoch: 03, i: 20, Loss: 0.52736211\n",
            "Epoch: 03, i: 40, Loss: 0.55014795\n",
            "Epoch: 03, i: 60, Loss: 0.58245158\n",
            "Epoch: 03, i: 80, Loss: 0.44758052\n",
            "Epoch: 03, i: 100, Loss: 0.61707997\n",
            "Epoch: 03, i: 120, Loss: 0.74079335\n",
            "Epoch: 04, i: 00, Loss: 0.59046465\n",
            "Epoch: 04, i: 20, Loss: 0.69567734\n",
            "Epoch: 04, i: 40, Loss: 0.57718003\n",
            "Epoch: 04, i: 60, Loss: 0.53678346\n",
            "Epoch: 04, i: 80, Loss: 0.54163069\n",
            "Epoch: 04, i: 100, Loss: 0.56999582\n",
            "Epoch: 04, i: 120, Loss: 0.53311783\n",
            "Epoch: 05, i: 00, Loss: 0.42740571\n",
            "Epoch: 05, i: 20, Loss: 0.51922590\n",
            "Epoch: 05, i: 40, Loss: 0.59398860\n",
            "Epoch: 05, i: 60, Loss: 0.47836098\n",
            "Epoch: 05, i: 80, Loss: 0.46724111\n",
            "Epoch: 05, i: 100, Loss: 0.40473926\n",
            "Epoch: 05, i: 120, Loss: 0.45379901\n",
            "Epoch: 06, i: 00, Loss: 0.72625703\n",
            "Epoch: 06, i: 20, Loss: 0.42471707\n",
            "Epoch: 06, i: 40, Loss: 0.42532861\n",
            "Epoch: 06, i: 60, Loss: 0.39248732\n",
            "Epoch: 06, i: 80, Loss: 0.52087700\n",
            "Epoch: 06, i: 100, Loss: 0.45435438\n",
            "Epoch: 06, i: 120, Loss: 0.44206008\n",
            "Epoch: 07, i: 00, Loss: 0.49472928\n",
            "Epoch: 07, i: 20, Loss: 0.34890738\n",
            "Epoch: 07, i: 40, Loss: 0.36034104\n",
            "Epoch: 07, i: 60, Loss: 0.25849855\n",
            "Epoch: 07, i: 80, Loss: 0.55025834\n",
            "Epoch: 07, i: 100, Loss: 0.38601723\n",
            "Epoch: 07, i: 120, Loss: 0.45925912\n",
            "Epoch: 08, i: 00, Loss: 0.44152367\n",
            "Epoch: 08, i: 20, Loss: 0.46694833\n",
            "Epoch: 08, i: 40, Loss: 0.33719626\n",
            "Epoch: 08, i: 60, Loss: 0.35358107\n",
            "Epoch: 08, i: 80, Loss: 0.39974627\n",
            "Epoch: 08, i: 100, Loss: 0.41092724\n",
            "Epoch: 08, i: 120, Loss: 0.40148622\n",
            "Epoch: 09, i: 00, Loss: 0.37915930\n",
            "Epoch: 09, i: 20, Loss: 0.54925412\n",
            "Epoch: 09, i: 40, Loss: 0.42561311\n",
            "Epoch: 09, i: 60, Loss: 0.31315958\n",
            "Epoch: 09, i: 80, Loss: 0.37944308\n",
            "Epoch: 09, i: 100, Loss: 0.36334288\n",
            "Epoch: 09, i: 120, Loss: 0.32815468\n",
            "Epoch: 10, i: 00, Loss: 0.46349192\n",
            "Epoch: 10, i: 20, Loss: 0.39883611\n",
            "Epoch: 10, i: 40, Loss: 0.53801799\n",
            "Epoch: 10, i: 60, Loss: 0.25097573\n",
            "Epoch: 10, i: 80, Loss: 0.35718930\n",
            "Epoch: 10, i: 100, Loss: 0.42963353\n",
            "Epoch: 10, i: 120, Loss: 0.24557427\n",
            "Epoch: 11, i: 00, Loss: 0.29633033\n",
            "Epoch: 11, i: 20, Loss: 0.31379181\n",
            "Epoch: 11, i: 40, Loss: 0.30792490\n",
            "Epoch: 11, i: 60, Loss: 0.24218652\n",
            "Epoch: 11, i: 80, Loss: 0.22396082\n",
            "Epoch: 11, i: 100, Loss: 0.44488361\n",
            "Epoch: 11, i: 120, Loss: 0.37151894\n",
            "Epoch: 12, i: 00, Loss: 0.34184548\n",
            "Epoch: 12, i: 20, Loss: 0.50177509\n",
            "Epoch: 12, i: 40, Loss: 0.28864220\n",
            "Epoch: 12, i: 60, Loss: 0.38951492\n",
            "Epoch: 12, i: 80, Loss: 0.47438538\n",
            "Epoch: 12, i: 100, Loss: 0.37790236\n",
            "Epoch: 12, i: 120, Loss: 0.41686311\n",
            "Epoch: 13, i: 00, Loss: 0.40858886\n",
            "Epoch: 13, i: 20, Loss: 0.35465953\n",
            "Epoch: 13, i: 40, Loss: 0.27955866\n",
            "Epoch: 13, i: 60, Loss: 0.36258572\n",
            "Epoch: 13, i: 80, Loss: 0.35020196\n",
            "Epoch: 13, i: 100, Loss: 0.26302949\n",
            "Epoch: 13, i: 120, Loss: 0.36325383\n",
            "Epoch: 14, i: 00, Loss: 0.32110438\n",
            "Epoch: 14, i: 20, Loss: 0.31630322\n",
            "Epoch: 14, i: 40, Loss: 0.33451301\n",
            "Epoch: 14, i: 60, Loss: 0.31788650\n",
            "Epoch: 14, i: 80, Loss: 0.21501373\n",
            "Epoch: 14, i: 100, Loss: 0.29281509\n",
            "Epoch: 14, i: 120, Loss: 0.30578899\n",
            "Epoch: 15, i: 00, Loss: 0.25089243\n",
            "Epoch: 15, i: 20, Loss: 0.39110479\n",
            "Epoch: 15, i: 40, Loss: 0.26926735\n",
            "Epoch: 15, i: 60, Loss: 0.39884114\n",
            "Epoch: 15, i: 80, Loss: 0.20773044\n",
            "Epoch: 15, i: 100, Loss: 0.25592443\n",
            "Epoch: 15, i: 120, Loss: 0.32504913\n",
            "Epoch: 16, i: 00, Loss: 0.32652465\n",
            "Epoch: 16, i: 20, Loss: 0.32007980\n",
            "Epoch: 16, i: 40, Loss: 0.28908801\n",
            "Epoch: 16, i: 60, Loss: 0.37546957\n",
            "Epoch: 16, i: 80, Loss: 0.21633208\n",
            "Epoch: 16, i: 100, Loss: 0.19522201\n",
            "Epoch: 16, i: 120, Loss: 0.16402011\n",
            "Epoch: 17, i: 00, Loss: 0.22988589\n",
            "Epoch: 17, i: 20, Loss: 0.21093130\n",
            "Epoch: 17, i: 40, Loss: 0.28659984\n",
            "Epoch: 17, i: 60, Loss: 0.25487453\n",
            "Epoch: 17, i: 80, Loss: 0.29684797\n",
            "Epoch: 17, i: 100, Loss: 0.43650603\n",
            "Epoch: 17, i: 120, Loss: 0.17320196\n",
            "Epoch: 18, i: 00, Loss: 0.28809416\n",
            "Epoch: 18, i: 20, Loss: 0.17391944\n",
            "Epoch: 18, i: 40, Loss: 0.21036583\n",
            "Epoch: 18, i: 60, Loss: 0.24861294\n",
            "Epoch: 18, i: 80, Loss: 0.23411126\n",
            "Epoch: 18, i: 100, Loss: 0.31028351\n",
            "Epoch: 18, i: 120, Loss: 0.25573051\n",
            "Epoch: 19, i: 00, Loss: 0.22076105\n",
            "Epoch: 19, i: 20, Loss: 0.18164513\n",
            "Epoch: 19, i: 40, Loss: 0.21973921\n",
            "Epoch: 19, i: 60, Loss: 0.19410941\n",
            "Epoch: 19, i: 80, Loss: 0.23605537\n",
            "Epoch: 19, i: 100, Loss: 0.35271949\n",
            "Epoch: 19, i: 120, Loss: 0.31180757\n"
          ]
        }
      ],
      "source": [
        "device = torch.device('cuda' if torch.cuda.is_available() else 'cpu')\n",
        "\n",
        "net = MyModel().to(device)\n",
        "history = []\n",
        "cf = nn.CrossEntropyLoss().to(device)\n",
        "opt = optim.Adam(net.parameters(),lr=0.001)\n",
        "\n",
        "net.train()\n",
        "\n",
        "for epoch in range(20):\n",
        "    for i, (b_x, b_y) in enumerate(train_loader):\n",
        "        b_x, b_y = b_x.to(device), b_y.to(device)\n",
        "        b_output = net(b_x)\n",
        "        loss = cf(b_output, b_y)\n",
        "\n",
        "        if i % 20 == 0:\n",
        "            print('Epoch: %02d, i: %02d, Loss: %.8f' % (epoch, i, loss.item()))\n",
        "\n",
        "        loss.backward()\n",
        "        history.append(loss.item())\n",
        "        opt.step()\n",
        "        opt.zero_grad()\n"
      ]
    },
    {
      "cell_type": "code",
      "execution_count": null,
      "metadata": {
        "id": "CJ5v1o4c7dh3"
      },
      "outputs": [],
      "source": [
        "data_test = Kh(x_test, y_encode_test)\n",
        "test_loader = DataLoader(data_test, batch_size=64, shuffle=True)"
      ]
    },
    {
      "cell_type": "code",
      "execution_count": null,
      "metadata": {
        "id": "bnlcnGnL7dh3",
        "outputId": "195e0efe-dbef-4bbd-9e57-e42321c14443"
      },
      "outputs": [
        {
          "name": "stdout",
          "output_type": "stream",
          "text": [
            "Validation Loss: 0.34531910, Accuracy: 88.37%\n"
          ]
        }
      ],
      "source": [
        "net.eval()\n",
        "val_loss = 0.0\n",
        "correct = 0\n",
        "total = 0\n",
        "\n",
        "with torch.no_grad():\n",
        "    for b_x, b_y in test_loader:\n",
        "        b_x, b_y = b_x.to(device), b_y.to(device)\n",
        "        b_output = net(b_x)\n",
        "        loss = cf(b_output, b_y)\n",
        "        val_loss += loss.item()\n",
        "\n",
        "\n",
        "        _, predicted = torch.max(b_output, 1)\n",
        "        total += b_y.size(0)\n",
        "        correct += (predicted == b_y).sum().item()\n",
        "\n",
        "avg_val_loss = val_loss / len(test_loader)\n",
        "accuracy = 100 * correct / total\n",
        "\n",
        "print(f'Validation Loss: {avg_val_loss:.8f}, Accuracy: {accuracy:.2f}%')\n"
      ]
    },
    {
      "cell_type": "code",
      "execution_count": null,
      "metadata": {
        "id": "VWegG0fn7dh4"
      },
      "outputs": [],
      "source": [
        "# torch.save(net.state_dict(), \"KH_CHAR_state_dict.pth\")"
      ]
    },
    {
      "cell_type": "code",
      "execution_count": null,
      "metadata": {
        "id": "sIMJjbUr7dh4",
        "outputId": "6793b77c-0502-4278-9d09-5610e17554c2"
      },
      "outputs": [
        {
          "name": "stderr",
          "output_type": "stream",
          "text": [
            "/tmp/ipykernel_10197/89245705.py:2: FutureWarning: You are using `torch.load` with `weights_only=False` (the current default value), which uses the default pickle module implicitly. It is possible to construct malicious pickle data which will execute arbitrary code during unpickling (See https://github.com/pytorch/pytorch/blob/main/SECURITY.md#untrusted-models for more details). In a future release, the default value for `weights_only` will be flipped to `True`. This limits the functions that could be executed during unpickling. Arbitrary objects will no longer be allowed to be loaded via this mode unless they are explicitly allowlisted by the user via `torch.serialization.add_safe_globals`. We recommend you start setting `weights_only=True` for any use case where you don't have full control of the loaded file. Please open an issue on GitHub for any issues related to this experimental feature.\n",
            "  model.load_state_dict(torch.load(\"KH_CHAR_state_dict.pth\"))\n"
          ]
        },
        {
          "name": "stdout",
          "output_type": "stream",
          "text": [
            "Validation Loss: 0.34713443, Accuracy: 88.37%\n"
          ]
        }
      ],
      "source": [
        "\n",
        "model = MyModel()\n",
        "model.load_state_dict(torch.load(\"KH_CHAR_state_dict.pth\"))\n",
        "model.to(device)\n",
        "model.eval()\n",
        "\n",
        "correct = 0\n",
        "total = 0\n",
        "val_loss = 0.0\n",
        "\n",
        "\n",
        "with torch.no_grad():\n",
        "    for b_x, b_y in test_loader:\n",
        "        b_x, b_y = b_x.to(device), b_y.to(device)\n",
        "\n",
        "        b_output = model(b_x)\n",
        "\n",
        "        loss = cf(b_output, b_y)\n",
        "        val_loss += loss.item()\n",
        "\n",
        "        _, predicted = torch.max(b_output, 1)\n",
        "        total += b_y.size(0)\n",
        "        correct += (predicted == b_y).sum().item()\n",
        "\n",
        "avg_val_loss = val_loss / len(test_loader)\n",
        "accuracy = 100 * correct / total\n",
        "\n",
        "print(f\"Validation Loss: {avg_val_loss:.8f}, Accuracy: {accuracy:.2f}%\")\n"
      ]
    },
    {
      "cell_type": "markdown",
      "metadata": {
        "id": "2qSY3uAd7dh4"
      },
      "source": [
        "# SUMMARY OF STRUCTURE CNN"
      ]
    },
    {
      "cell_type": "code",
      "execution_count": null,
      "metadata": {
        "id": "Rct062CM7dh5",
        "outputId": "46abea64-545d-461c-f630-b4b2a4d835be"
      },
      "outputs": [
        {
          "name": "stdout",
          "output_type": "stream",
          "text": [
            "----------------------------------------------------------------\n",
            "        Layer (type)               Output Shape         Param #\n",
            "================================================================\n",
            "            Linear-1               [-1, 1, 392]         903,560\n",
            "              ReLU-2               [-1, 1, 392]               0\n",
            "            Linear-3               [-1, 1, 196]          77,028\n",
            "              ReLU-4               [-1, 1, 196]               0\n",
            "            Linear-5                [-1, 1, 98]          19,306\n",
            "              ReLU-6                [-1, 1, 98]               0\n",
            "            Linear-7                [-1, 1, 10]             990\n",
            "================================================================\n",
            "Total params: 1,000,884\n",
            "Trainable params: 1,000,884\n",
            "Non-trainable params: 0\n",
            "----------------------------------------------------------------\n",
            "Input size (MB): 0.01\n",
            "Forward/backward pass size (MB): 0.01\n",
            "Params size (MB): 3.82\n",
            "Estimated Total Size (MB): 3.84\n",
            "----------------------------------------------------------------\n"
          ]
        }
      ],
      "source": [
        "from torchsummary import summary\n",
        "summary(net,input_size=(1,2304))"
      ]
    },
    {
      "cell_type": "markdown",
      "metadata": {
        "id": "ZatGEeET7dh5"
      },
      "source": [
        "# Testing With Some Image"
      ]
    },
    {
      "cell_type": "code",
      "execution_count": null,
      "metadata": {
        "id": "WbRHDcTF7dh5",
        "outputId": "4334c38f-957d-4cdc-ab89-7a4868e062a5"
      },
      "outputs": [
        {
          "data": {
            "text/plain": [
              "{np.str_('CHA'): 0,\n",
              " np.str_('CHHA'): 1,\n",
              " np.str_('CHHO'): 2,\n",
              " np.str_('DA'): 3,\n",
              " np.str_('KHA'): 4,\n",
              " np.str_('KHO'): 5,\n",
              " np.str_('KO'): 6,\n",
              " np.str_('NA'): 7,\n",
              " np.str_('NGO'): 8,\n",
              " np.str_('TA'): 9}"
            ]
          },
          "execution_count": 98,
          "metadata": {},
          "output_type": "execute_result"
        }
      ],
      "source": [
        "label_mapping = dict(zip(encoder.classes_, range(len(encoder.classes_))))\n",
        "label_mapping\n"
      ]
    },
    {
      "cell_type": "code",
      "execution_count": null,
      "metadata": {
        "id": "l1FGY3v47dh5",
        "outputId": "fd97c6ef-58bf-40f6-aaa2-f9bf23cd10f0"
      },
      "outputs": [
        {
          "name": "stdout",
          "output_type": "stream",
          "text": [
            "Original image size: (371, 364)\n",
            "Tensor shape after transformation: torch.Size([1, 2304])\n",
            "Prediction confidence (percentile): 100.00%\n",
            "Predicted class index: 7\n"
          ]
        },
        {
          "data": {
            "image/png": "[encoded data removed]",
            "text/plain": [
              "<Figure size 640x480 with 1 Axes>"
            ]
          },
          "metadata": {},
          "output_type": "display_data"
        }
      ],
      "source": [
        "from PIL import Image\n",
        "import torch.nn.functional as F\n",
        "from torchvision import transforms\n",
        "\n",
        "transform = transforms.Compose([\n",
        "    transforms.Resize((48, 48)),\n",
        "    transforms.Grayscale(1),\n",
        "    transforms.ToTensor(),\n",
        "    transforms.Normalize((0.5,), (0.5,))\n",
        "\n",
        "])\n",
        "\n",
        "image_path = r'/home/sedtha/Documents/ITC/AI/KH_char/1.png'\n",
        "img = Image.open(image_path)\n",
        "\n",
        "print(f\"Original image size: {img.size}\")\n",
        "\n",
        "img_tensor = transform(img).unsqueeze(0).to(device)\n",
        "img_tensor = img_tensor.reshape(1,-1)\n",
        "print(f\"Tensor shape after transformation: {img_tensor.shape}\")\n",
        "\n",
        "with torch.no_grad():\n",
        "    output = model(img_tensor)\n",
        "    _, predicted = torch.max(output, 1)\n",
        "    probabilities = F.softmax(output, dim=1)\n",
        "    predicted_class = torch.argmax(probabilities, dim=1).item()\n",
        "    confidence = probabilities[0, predicted_class].item()\n",
        "    print(f\"Prediction confidence (percentile): {confidence * 100:.2f}%\")\n",
        "\n",
        "class_idx = predicted.item()\n",
        "print(f\"Predicted class index: {class_idx}\")\n",
        "\n",
        "\n",
        "plt.imshow(img)\n",
        "plt.axis('off')\n",
        "plt.title(f\"Predicted Class: {class_idx}\")\n",
        "plt.show()"
      ]
    },
    {
      "cell_type": "code",
      "execution_count": null,
      "metadata": {
        "id": "dzPC-SJr7dh6",
        "outputId": "bc720404-c02c-4bda-eea4-4b929f7ec5ba"
      },
      "outputs": [
        {
          "name": "stdout",
          "output_type": "stream",
          "text": [
            "Original image size: (377, 375)\n",
            "Tensor shape after transformation: torch.Size([1, 2304])\n",
            "Prediction confidence (percentile): 92.78%\n",
            "Predicted class index: 9\n"
          ]
        },
        {
          "data": {
            "image/png": "[encoded data removed]",
            "text/plain": [
              "<Figure size 640x480 with 1 Axes>"
            ]
          },
          "metadata": {},
          "output_type": "display_data"
        }
      ],
      "source": [
        "image_path = r'/home/sedtha/Documents/ITC/AI/KH_char/4.png'\n",
        "img = Image.open(image_path)\n",
        "\n",
        "print(f\"Original image size: {img.size}\")\n",
        "\n",
        "img_tensor = transform(img).unsqueeze(0).to(device)\n",
        "img_tensor = img_tensor.reshape(1,-1)\n",
        "print(f\"Tensor shape after transformation: {img_tensor.shape}\")\n",
        "\n",
        "with torch.no_grad():\n",
        "    output = model(img_tensor)\n",
        "    _, predicted = torch.max(output, 1)\n",
        "    probabilities = F.softmax(output, dim=1)\n",
        "    predicted_class = torch.argmax(probabilities, dim=1).item()\n",
        "    confidence = probabilities[0, predicted_class].item()\n",
        "    print(f\"Prediction confidence (percentile): {confidence * 100:.2f}%\")\n",
        "\n",
        "class_idx = predicted.item()\n",
        "print(f\"Predicted class index: {class_idx}\")\n",
        "\n",
        "\n",
        "plt.imshow(img)\n",
        "plt.axis('off')\n",
        "plt.title(f\"Predicted Class: {class_idx}\")\n",
        "plt.show()"
      ]
    },
    {
      "cell_type": "code",
      "execution_count": null,
      "metadata": {
        "id": "IAJUFv5R7dh6"
      },
      "outputs": [],
      "source": []
    }
  ],
  "metadata": {
    "colab": {
      "provenance": []
    },
    "kernelspec": {
      "display_name": "yolo_custom",
      "language": "python",
      "name": "python3"
    },
    "language_info": {
      "codemirror_mode": {
        "name": "ipython",
        "version": 3
      },
      "file_extension": ".py",
      "mimetype": "text/x-python",
      "name": "python",
      "nbconvert_exporter": "python",
      "pygments_lexer": "ipython3",
      "version": "3.12.3"
    }
  },
  "nbformat": 4,
  "nbformat_minor": 0
}
